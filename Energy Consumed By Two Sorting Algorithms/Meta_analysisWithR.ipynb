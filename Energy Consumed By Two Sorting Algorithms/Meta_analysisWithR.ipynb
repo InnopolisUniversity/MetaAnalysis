{
 "cells": [
  {
   "cell_type": "markdown",
   "metadata": {
    "id": "n1l3aWNbzxbX"
   },
   "source": [
    "# I want to make beautiful plots like I've seen in the studies! How to make them?\n",
    "\n",
    "You already did some calculations by hands and in Python! Now, let's see, how they will look like using R.\n",
    "\n",
    "If you have any questions (even though you think they are simple), do not hesitate to ask us or to write in private messages!"
   ]
  },
  {
   "cell_type": "markdown",
   "metadata": {
    "id": "Urld0cavzz7W"
   },
   "source": [
    "## Starting point\n",
    "\n",
    "Create a new notebook using the following [the link](https://colab.research.google.com/#create=true&language=r). Did it?\n",
    "\n",
    "Great! Here we go!\n",
    "\n",
    "Let's check, if we're doing what we need!"
   ]
  },
  {
   "cell_type": "code",
   "execution_count": 1,
   "metadata": {
    "colab": {
     "base_uri": "https://localhost:8080/",
     "height": 34
    },
    "executionInfo": {
     "elapsed": 981,
     "status": "ok",
     "timestamp": 1616273377623,
     "user": {
      "displayName": "Firas Jolha",
      "photoUrl": "https://lh3.googleusercontent.com/a-/AOh14Gh0N35hmFkQ1xxYEE4gZiRd6kk9zm0e8SIEx8xJEw=s64",
      "userId": "10923119656343535445"
     },
     "user_tz": -180
    },
    "id": "Ov5DBT58zpha",
    "outputId": "59927da0-27b3-46d4-9c26-ebd4ff296e6e"
   },
   "outputs": [
    {
     "data": {
      "text/html": [
       "'R version 4.0.4 (2021-02-15)'"
      ],
      "text/latex": [
       "'R version 4.0.4 (2021-02-15)'"
      ],
      "text/markdown": [
       "'R version 4.0.4 (2021-02-15)'"
      ],
      "text/plain": [
       "[1] \"R version 4.0.4 (2021-02-15)\""
      ]
     },
     "metadata": {
      "tags": []
     },
     "output_type": "display_data"
    }
   ],
   "source": [
    "R.version.string"
   ]
  },
  {
   "cell_type": "markdown",
   "metadata": {
    "id": "8ocrGLBW0R8P"
   },
   "source": [
    "## Just some basic things..."
   ]
  },
  {
   "cell_type": "code",
   "execution_count": 3,
   "metadata": {
    "colab": {
     "base_uri": "https://localhost:8080/",
     "height": 34
    },
    "executionInfo": {
     "elapsed": 1951,
     "status": "ok",
     "timestamp": 1616273378624,
     "user": {
      "displayName": "Firas Jolha",
      "photoUrl": "https://lh3.googleusercontent.com/a-/AOh14Gh0N35hmFkQ1xxYEE4gZiRd6kk9zm0e8SIEx8xJEw=s64",
      "userId": "10923119656343535445"
     },
     "user_tz": -180
    },
    "id": "BCNbz8pW0RXX",
    "outputId": "c28fa1e5-37e2-4642-e4d1-01745af937b4"
   },
   "outputs": [
    {
     "data": {
      "text/html": [
       "<style>\n",
       ".list-inline {list-style: none; margin:0; padding: 0}\n",
       ".list-inline>li {display: inline-block}\n",
       ".list-inline>li:not(:last-child)::after {content: \"\\00b7\"; padding: 0 .5ex}\n",
       "</style>\n",
       "<ol class=list-inline><li>1</li><li>2</li><li>3</li><li>4</li><li>5</li><li>6</li><li>7</li><li>8</li></ol>\n"
      ],
      "text/latex": [
       "\\begin{enumerate*}\n",
       "\\item 1\n",
       "\\item 2\n",
       "\\item 3\n",
       "\\item 4\n",
       "\\item 5\n",
       "\\item 6\n",
       "\\item 7\n",
       "\\item 8\n",
       "\\end{enumerate*}\n"
      ],
      "text/markdown": [
       "1. 1\n",
       "2. 2\n",
       "3. 3\n",
       "4. 4\n",
       "5. 5\n",
       "6. 6\n",
       "7. 7\n",
       "8. 8\n",
       "\n",
       "\n"
      ],
      "text/plain": [
       "[1] 1 2 3 4 5 6 7 8"
      ]
     },
     "metadata": {
      "tags": []
     },
     "output_type": "display_data"
    }
   ],
   "source": [
    "v <- c(1,2,3,4,5,6,7,8) #just created a vector\n",
    "v "
   ]
  },
  {
   "cell_type": "code",
   "execution_count": 4,
   "metadata": {
    "executionInfo": {
     "elapsed": 1948,
     "status": "ok",
     "timestamp": 1616273378626,
     "user": {
      "displayName": "Firas Jolha",
      "photoUrl": "https://lh3.googleusercontent.com/a-/AOh14Gh0N35hmFkQ1xxYEE4gZiRd6kk9zm0e8SIEx8xJEw=s64",
      "userId": "10923119656343535445"
     },
     "user_tz": -180
    },
    "id": "2v2mbWpC0rEw"
   },
   "outputs": [],
   "source": [
    "mean_value <- mean(v)\n",
    "standard_deviation <- sd(v)"
   ]
  },
  {
   "cell_type": "markdown",
   "metadata": {
    "id": "2lxW_tYS1GbA"
   },
   "source": [
    "How to look at these two values?"
   ]
  },
  {
   "cell_type": "code",
   "execution_count": 5,
   "metadata": {
    "colab": {
     "base_uri": "https://localhost:8080/"
    },
    "executionInfo": {
     "elapsed": 1939,
     "status": "ok",
     "timestamp": 1616273378628,
     "user": {
      "displayName": "Firas Jolha",
      "photoUrl": "https://lh3.googleusercontent.com/a-/AOh14Gh0N35hmFkQ1xxYEE4gZiRd6kk9zm0e8SIEx8xJEw=s64",
      "userId": "10923119656343535445"
     },
     "user_tz": -180
    },
    "id": "_JBUlMmp1JX3",
    "outputId": "225d4141-4410-4775-e7d8-a9dffb8bcc43"
   },
   "outputs": [
    {
     "name": "stdout",
     "output_type": "stream",
     "text": [
      "[1] 4.5\n"
     ]
    }
   ],
   "source": [
    "print(mean_value, standard_deviation)"
   ]
  },
  {
   "cell_type": "markdown",
   "metadata": {
    "id": "blJIIHpQ1QSY"
   },
   "source": [
    "WHY WE HAVE ONLY ONE VALUE???"
   ]
  },
  {
   "cell_type": "code",
   "execution_count": 6,
   "metadata": {
    "colab": {
     "base_uri": "https://localhost:8080/"
    },
    "executionInfo": {
     "elapsed": 1934,
     "status": "ok",
     "timestamp": 1616273378632,
     "user": {
      "displayName": "Firas Jolha",
      "photoUrl": "https://lh3.googleusercontent.com/a-/AOh14Gh0N35hmFkQ1xxYEE4gZiRd6kk9zm0e8SIEx8xJEw=s64",
      "userId": "10923119656343535445"
     },
     "user_tz": -180
    },
    "id": "Ly3UVA2V1S2u",
    "outputId": "b4abde1e-a86a-4c6f-b74a-819bb77bbd1e"
   },
   "outputs": [
    {
     "name": "stdout",
     "output_type": "stream",
     "text": [
      "[1] 4.50000 2.44949\n"
     ]
    }
   ],
   "source": [
    "print(c(mean_value, standard_deviation))"
   ]
  },
  {
   "cell_type": "markdown",
   "metadata": {
    "id": "JyA9A6sD1YmF"
   },
   "source": [
    "Hmmm. We need to create a vector in order to work with two values at the same time!"
   ]
  },
  {
   "cell_type": "markdown",
   "metadata": {
    "id": "6HMPHG_41y1V"
   },
   "source": [
    "## Not so basic things!\n",
    "\n",
    "Don't worry, it will be funny!"
   ]
  },
  {
   "cell_type": "code",
   "execution_count": 7,
   "metadata": {
    "colab": {
     "base_uri": "https://localhost:8080/"
    },
    "executionInfo": {
     "elapsed": 292571,
     "status": "ok",
     "timestamp": 1616273669280,
     "user": {
      "displayName": "Firas Jolha",
      "photoUrl": "https://lh3.googleusercontent.com/a-/AOh14Gh0N35hmFkQ1xxYEE4gZiRd6kk9zm0e8SIEx8xJEw=s64",
      "userId": "10923119656343535445"
     },
     "user_tz": -180
    },
    "id": "KZsfrT4t0H3C",
    "outputId": "91a0ffc3-a8be-4a35-de60-a1f5da7260da"
   },
   "outputs": [
    {
     "name": "stderr",
     "output_type": "stream",
     "text": [
      "Installing package into ‘/usr/local/lib/R/site-library’\n",
      "(as ‘lib’ is unspecified)\n",
      "\n",
      "Downloading GitHub repo guido-s/meta@HEAD\n",
      "\n"
     ]
    },
    {
     "name": "stdout",
     "output_type": "stream",
     "text": [
      "RcppEigen    (NA -> 0.3.3.9.1) [CRAN]\n",
      "statmod      (NA -> 1.4.35   ) [CRAN]\n",
      "nloptr       (NA -> 1.2.2.2  ) [CRAN]\n",
      "minqa        (NA -> 1.2.4    ) [CRAN]\n",
      "CompQuadForm (NA -> 1.4.3    ) [CRAN]\n",
      "lme4         (NA -> 1.1-26   ) [CRAN]\n",
      "metafor      (NA -> 2.4-0    ) [CRAN]\n"
     ]
    },
    {
     "name": "stderr",
     "output_type": "stream",
     "text": [
      "Installing 7 packages: RcppEigen, statmod, nloptr, minqa, CompQuadForm, lme4, metafor\n",
      "\n",
      "Installing packages into ‘/usr/local/lib/R/site-library’\n",
      "(as ‘lib’ is unspecified)\n",
      "\n"
     ]
    },
    {
     "name": "stdout",
     "output_type": "stream",
     "text": [
      "\u001b[32m✔\u001b[39m  \u001b[90mchecking for file ‘/tmp/RtmpWQkPM7/remotes394aaa4e13/guido-s-meta-96f86f3/DESCRIPTION’\u001b[39m\u001b[36m\u001b[39m\n",
      "\u001b[90m─\u001b[39m\u001b[90m  \u001b[39m\u001b[90mpreparing ‘meta’:\u001b[39m\u001b[36m\u001b[39m\n",
      "\u001b[32m✔\u001b[39m  \u001b[90mchecking DESCRIPTION meta-information\u001b[39m\u001b[36m\u001b[39m\n",
      "\u001b[90m─\u001b[39m\u001b[90m  \u001b[39m\u001b[90mchecking for LF line-endings in source and make files and shell scripts\u001b[39m\u001b[36m\u001b[39m\n",
      "\u001b[90m─\u001b[39m\u001b[90m  \u001b[39m\u001b[90mchecking for empty or unneeded directories\u001b[39m\u001b[36m\u001b[39m\n",
      "\u001b[90m─\u001b[39m\u001b[90m  \u001b[39m\u001b[90mlooking to see if a ‘data/datalist’ file should be added\u001b[39m\u001b[36m\u001b[39m\n",
      "\u001b[90m─\u001b[39m\u001b[90m  \u001b[39m\u001b[90mbuilding ‘meta_4.18-0.tar.gz’\u001b[39m\u001b[36m\u001b[39m\n",
      "   \n"
     ]
    },
    {
     "name": "stderr",
     "output_type": "stream",
     "text": [
      "Installing package into ‘/usr/local/lib/R/site-library’\n",
      "(as ‘lib’ is unspecified)\n",
      "\n",
      "Loading 'meta' package (version 4.18-0).\n",
      "Type 'help(meta)' for a brief overview.\n",
      "\n"
     ]
    }
   ],
   "source": [
    "install.packages(\"devtools\") #will help us to install required packages\n",
    "devtools::install_github(\"guido-s/meta\") #installation of meta - package for a meta-analysis\n",
    "\n",
    "library(meta)"
   ]
  },
  {
   "cell_type": "markdown",
   "metadata": {
    "id": "bj0dzMMC2oft"
   },
   "source": [
    "I have prepared file, so we will use it to our meta-analysis!"
   ]
  },
  {
   "cell_type": "code",
   "execution_count": 8,
   "metadata": {
    "colab": {
     "base_uri": "https://localhost:8080/",
     "height": 318
    },
    "executionInfo": {
     "elapsed": 292562,
     "status": "ok",
     "timestamp": 1616273669283,
     "user": {
      "displayName": "Firas Jolha",
      "photoUrl": "https://lh3.googleusercontent.com/a-/AOh14Gh0N35hmFkQ1xxYEE4gZiRd6kk9zm0e8SIEx8xJEw=s64",
      "userId": "10923119656343535445"
     },
     "user_tz": -180
    },
    "id": "vNL50kqG1yMS",
    "outputId": "f9e59f58-0f0e-4c7b-e0c8-fcd309ec90b8"
   },
   "outputs": [
    {
     "data": {
      "text/html": [
       "<table class=\"dataframe\">\n",
       "<caption>A data.frame: 7 × 10</caption>\n",
       "<thead>\n",
       "\t<tr><th scope=col>X</th><th scope=col>author</th><th scope=col>year</th><th scope=col>number_of_methods_for_merge</th><th scope=col>number_of_methods_for_quick</th><th scope=col>mean_merge</th><th scope=col>std_merge</th><th scope=col>mean_quick</th><th scope=col>std_quick</th><th scope=col>type</th></tr>\n",
       "\t<tr><th scope=col>&lt;int&gt;</th><th scope=col>&lt;chr&gt;</th><th scope=col>&lt;dbl&gt;</th><th scope=col>&lt;dbl&gt;</th><th scope=col>&lt;dbl&gt;</th><th scope=col>&lt;dbl&gt;</th><th scope=col>&lt;dbl&gt;</th><th scope=col>&lt;dbl&gt;</th><th scope=col>&lt;dbl&gt;</th><th scope=col>&lt;chr&gt;</th></tr>\n",
       "</thead>\n",
       "<tbody>\n",
       "\t<tr><td>0</td><td>Bunse et al. (2009)       </td><td>0</td><td> 3</td><td> 3</td><td>   3.156294</td><td>9.022745e-01</td><td>   1.124992</td><td>   0.7489404</td><td>M_0</td></tr>\n",
       "\t<tr><td>1</td><td>Bunse et al. (2009)       </td><td>0</td><td> 2</td><td> 3</td><td>   1.413711</td><td>3.102606e-01</td><td>   3.617372</td><td>   2.3706130</td><td>M_0</td></tr>\n",
       "\t<tr><td>3</td><td>Verma et al. (2018)       </td><td>0</td><td>10</td><td>10</td><td>   7.167900</td><td>4.091190e+00</td><td>   4.144600</td><td>   2.7592677</td><td>M_2</td></tr>\n",
       "\t<tr><td>4</td><td>Balakrishnan et al. (2017)</td><td>0</td><td> 4</td><td> 4</td><td>   0.070750</td><td>3.705289e-02</td><td>   0.067500</td><td>   0.0353789</td><td>M_3</td></tr>\n",
       "\t<tr><td>5</td><td>Inoue (2016)              </td><td>0</td><td> 4</td><td> 4</td><td> 776.750000</td><td>3.054214e+02</td><td> 602.750000</td><td> 213.3297526</td><td>M_4</td></tr>\n",
       "\t<tr><td>6</td><td>Abulnaja et al. (2018)    </td><td>0</td><td> 5</td><td> 5</td><td> 787.098000</td><td>5.582226e+02</td><td> 964.272000</td><td> 846.4410794</td><td>M_5</td></tr>\n",
       "\t<tr><td>7</td><td>Aljabri et al. (2019)     </td><td>0</td><td>31</td><td>31</td><td>3422.707097</td><td>8.916599e+03</td><td>2733.668065</td><td>6982.5311538</td><td>M_6</td></tr>\n",
       "</tbody>\n",
       "</table>\n"
      ],
      "text/latex": [
       "A data.frame: 7 × 10\n",
       "\\begin{tabular}{llllllllll}\n",
       " X & author & year & number\\_of\\_methods\\_for\\_merge & number\\_of\\_methods\\_for\\_quick & mean\\_merge & std\\_merge & mean\\_quick & std\\_quick & type\\\\\n",
       " <int> & <chr> & <dbl> & <dbl> & <dbl> & <dbl> & <dbl> & <dbl> & <dbl> & <chr>\\\\\n",
       "\\hline\n",
       "\t 0 & Bunse et al. (2009)        & 0 &  3 &  3 &    3.156294 & 9.022745e-01 &    1.124992 &    0.7489404 & M\\_0\\\\\n",
       "\t 1 & Bunse et al. (2009)        & 0 &  2 &  3 &    1.413711 & 3.102606e-01 &    3.617372 &    2.3706130 & M\\_0\\\\\n",
       "\t 3 & Verma et al. (2018)        & 0 & 10 & 10 &    7.167900 & 4.091190e+00 &    4.144600 &    2.7592677 & M\\_2\\\\\n",
       "\t 4 & Balakrishnan et al. (2017) & 0 &  4 &  4 &    0.070750 & 3.705289e-02 &    0.067500 &    0.0353789 & M\\_3\\\\\n",
       "\t 5 & Inoue (2016)               & 0 &  4 &  4 &  776.750000 & 3.054214e+02 &  602.750000 &  213.3297526 & M\\_4\\\\\n",
       "\t 6 & Abulnaja et al. (2018)     & 0 &  5 &  5 &  787.098000 & 5.582226e+02 &  964.272000 &  846.4410794 & M\\_5\\\\\n",
       "\t 7 & Aljabri et al. (2019)      & 0 & 31 & 31 & 3422.707097 & 8.916599e+03 & 2733.668065 & 6982.5311538 & M\\_6\\\\\n",
       "\\end{tabular}\n"
      ],
      "text/markdown": [
       "\n",
       "A data.frame: 7 × 10\n",
       "\n",
       "| X &lt;int&gt; | author &lt;chr&gt; | year &lt;dbl&gt; | number_of_methods_for_merge &lt;dbl&gt; | number_of_methods_for_quick &lt;dbl&gt; | mean_merge &lt;dbl&gt; | std_merge &lt;dbl&gt; | mean_quick &lt;dbl&gt; | std_quick &lt;dbl&gt; | type &lt;chr&gt; |\n",
       "|---|---|---|---|---|---|---|---|---|---|\n",
       "| 0 | Bunse et al. (2009)        | 0 |  3 |  3 |    3.156294 | 9.022745e-01 |    1.124992 |    0.7489404 | M_0 |\n",
       "| 1 | Bunse et al. (2009)        | 0 |  2 |  3 |    1.413711 | 3.102606e-01 |    3.617372 |    2.3706130 | M_0 |\n",
       "| 3 | Verma et al. (2018)        | 0 | 10 | 10 |    7.167900 | 4.091190e+00 |    4.144600 |    2.7592677 | M_2 |\n",
       "| 4 | Balakrishnan et al. (2017) | 0 |  4 |  4 |    0.070750 | 3.705289e-02 |    0.067500 |    0.0353789 | M_3 |\n",
       "| 5 | Inoue (2016)               | 0 |  4 |  4 |  776.750000 | 3.054214e+02 |  602.750000 |  213.3297526 | M_4 |\n",
       "| 6 | Abulnaja et al. (2018)     | 0 |  5 |  5 |  787.098000 | 5.582226e+02 |  964.272000 |  846.4410794 | M_5 |\n",
       "| 7 | Aljabri et al. (2019)      | 0 | 31 | 31 | 3422.707097 | 8.916599e+03 | 2733.668065 | 6982.5311538 | M_6 |\n",
       "\n"
      ],
      "text/plain": [
       "  X author                     year number_of_methods_for_merge\n",
       "1 0 Bunse et al. (2009)        0     3                         \n",
       "2 1 Bunse et al. (2009)        0     2                         \n",
       "3 3 Verma et al. (2018)        0    10                         \n",
       "4 4 Balakrishnan et al. (2017) 0     4                         \n",
       "5 5 Inoue (2016)               0     4                         \n",
       "6 6 Abulnaja et al. (2018)     0     5                         \n",
       "7 7 Aljabri et al. (2019)      0    31                         \n",
       "  number_of_methods_for_quick mean_merge  std_merge    mean_quick  std_quick   \n",
       "1  3                             3.156294 9.022745e-01    1.124992    0.7489404\n",
       "2  3                             1.413711 3.102606e-01    3.617372    2.3706130\n",
       "3 10                             7.167900 4.091190e+00    4.144600    2.7592677\n",
       "4  4                             0.070750 3.705289e-02    0.067500    0.0353789\n",
       "5  4                           776.750000 3.054214e+02  602.750000  213.3297526\n",
       "6  5                           787.098000 5.582226e+02  964.272000  846.4410794\n",
       "7 31                          3422.707097 8.916599e+03 2733.668065 6982.5311538\n",
       "  type\n",
       "1 M_0 \n",
       "2 M_0 \n",
       "3 M_2 \n",
       "4 M_3 \n",
       "5 M_4 \n",
       "6 M_5 \n",
       "7 M_6 "
      ]
     },
     "metadata": {
      "tags": []
     },
     "output_type": "display_data"
    }
   ],
   "source": [
    "our_data <- read.csv('./Data/sources_for_ma.txt')\n",
    "our_data"
   ]
  },
  {
   "cell_type": "code",
   "execution_count": 9,
   "metadata": {
    "colab": {
     "base_uri": "https://localhost:8080/"
    },
    "executionInfo": {
     "elapsed": 292552,
     "status": "ok",
     "timestamp": 1616273669284,
     "user": {
      "displayName": "Firas Jolha",
      "photoUrl": "https://lh3.googleusercontent.com/a-/AOh14Gh0N35hmFkQ1xxYEE4gZiRd6kk9zm0e8SIEx8xJEw=s64",
      "userId": "10923119656343535445"
     },
     "user_tz": -180
    },
    "id": "9ElYOOtn2_yJ",
    "outputId": "399c92bf-bf5c-4bcd-b7e6-02089b840604"
   },
   "outputs": [
    {
     "name": "stdout",
     "output_type": "stream",
     "text": [
      "'data.frame':\t7 obs. of  10 variables:\n",
      " $ X                          : int  0 1 3 4 5 6 7\n",
      " $ author                     : chr  \"Bunse et al. (2009)\" \"Bunse et al. (2009)\" \"Verma et al. (2018)\" \"Balakrishnan et al. (2017)\" ...\n",
      " $ year                       : num  0 0 0 0 0 0 0\n",
      " $ number_of_methods_for_merge: num  3 2 10 4 4 5 31\n",
      " $ number_of_methods_for_quick: num  3 3 10 4 4 5 31\n",
      " $ mean_merge                 : num  3.1563 1.4137 7.1679 0.0708 776.75 ...\n",
      " $ std_merge                  : num  0.9023 0.3103 4.0912 0.0371 305.4214 ...\n",
      " $ mean_quick                 : num  1.125 3.6174 4.1446 0.0675 602.75 ...\n",
      " $ std_quick                  : num  0.7489 2.3706 2.7593 0.0354 213.3298 ...\n",
      " $ type                       : chr  \"M_0\" \"M_0\" \"M_2\" \"M_3\" ...\n"
     ]
    }
   ],
   "source": [
    "str(our_data) #structure of our dataset"
   ]
  },
  {
   "cell_type": "code",
   "execution_count": 10,
   "metadata": {
    "colab": {
     "base_uri": "https://localhost:8080/",
     "height": 69
    },
    "executionInfo": {
     "elapsed": 292544,
     "status": "ok",
     "timestamp": 1616273669287,
     "user": {
      "displayName": "Firas Jolha",
      "photoUrl": "https://lh3.googleusercontent.com/a-/AOh14Gh0N35hmFkQ1xxYEE4gZiRd6kk9zm0e8SIEx8xJEw=s64",
      "userId": "10923119656343535445"
     },
     "user_tz": -180
    },
    "id": "3klZJZEG3K-M",
    "outputId": "0b3d9559-4989-40f6-8fc7-3ebdf6c32d0c"
   },
   "outputs": [
    {
     "name": "stderr",
     "output_type": "stream",
     "text": [
      "Warning message in min(our_data$number_of_methods_for_java):\n",
      "“no non-missing arguments to min; returning Inf”\n"
     ]
    },
    {
     "data": {
      "text/html": [
       "Inf"
      ],
      "text/latex": [
       "Inf"
      ],
      "text/markdown": [
       "Inf"
      ],
      "text/plain": [
       "[1] Inf"
      ]
     },
     "metadata": {
      "tags": []
     },
     "output_type": "display_data"
    }
   ],
   "source": [
    "min(our_data$number_of_methods_for_java) #minimum number of experiments done in the considered papers"
   ]
  },
  {
   "cell_type": "code",
   "execution_count": 11,
   "metadata": {
    "colab": {
     "base_uri": "https://localhost:8080/",
     "height": 382
    },
    "executionInfo": {
     "elapsed": 292536,
     "status": "ok",
     "timestamp": 1616273669289,
     "user": {
      "displayName": "Firas Jolha",
      "photoUrl": "https://lh3.googleusercontent.com/a-/AOh14Gh0N35hmFkQ1xxYEE4gZiRd6kk9zm0e8SIEx8xJEw=s64",
      "userId": "10923119656343535445"
     },
     "user_tz": -180
    },
    "id": "1_w0BcXX3YB2",
    "outputId": "f1eb8b82-69d5-4fd1-b2a6-ae3b198b1c19"
   },
   "outputs": [
    {
     "data": {
      "text/plain": [
       "       X            author               year   number_of_methods_for_merge\n",
       " Min.   :0.000   Length:7           Min.   :0   Min.   : 2.000             \n",
       " 1st Qu.:2.000   Class :character   1st Qu.:0   1st Qu.: 3.500             \n",
       " Median :4.000   Mode  :character   Median :0   Median : 4.000             \n",
       " Mean   :3.714                      Mean   :0   Mean   : 8.429             \n",
       " 3rd Qu.:5.500                      3rd Qu.:0   3rd Qu.: 7.500             \n",
       " Max.   :7.000                      Max.   :0   Max.   :31.000             \n",
       " number_of_methods_for_quick   mean_merge         std_merge       \n",
       " Min.   : 3.000              Min.   :   0.071   Min.   :   0.037  \n",
       " 1st Qu.: 3.500              1st Qu.:   2.285   1st Qu.:   0.606  \n",
       " Median : 4.000              Median :   7.168   Median :   4.091  \n",
       " Mean   : 8.571              Mean   : 714.052   Mean   :1397.941  \n",
       " 3rd Qu.: 7.500              3rd Qu.: 781.924   3rd Qu.: 431.822  \n",
       " Max.   :31.000              Max.   :3422.707   Max.   :8916.599  \n",
       "   mean_quick          std_quick            type          \n",
       " Min.   :   0.0675   Min.   :   0.035   Length:7          \n",
       " 1st Qu.:   2.3712   1st Qu.:   1.560   Class :character  \n",
       " Median :   4.1446   Median :   2.759   Mode  :character  \n",
       " Mean   : 615.6635   Mean   :1149.745                     \n",
       " 3rd Qu.: 783.5110   3rd Qu.: 529.885                     \n",
       " Max.   :2733.6681   Max.   :6982.531                     "
      ]
     },
     "metadata": {
      "tags": []
     },
     "output_type": "display_data"
    }
   ],
   "source": [
    "summary(our_data) #the descriptive statistics of our dataset"
   ]
  },
  {
   "cell_type": "code",
   "execution_count": 14,
   "metadata": {
    "colab": {
     "base_uri": "https://localhost:8080/",
     "height": 521
    },
    "executionInfo": {
     "elapsed": 936,
     "status": "ok",
     "timestamp": 1616276113437,
     "user": {
      "displayName": "Firas Jolha",
      "photoUrl": "https://lh3.googleusercontent.com/a-/AOh14Gh0N35hmFkQ1xxYEE4gZiRd6kk9zm0e8SIEx8xJEw=s64",
      "userId": "10923119656343535445"
     },
     "user_tz": -180
    },
    "id": "N5YjgrU83dp0",
    "outputId": "4e8decd5-7bb5-4da7-d538-e593a47a42ca"
   },
   "outputs": [
    {
     "data": {
      "text/plain": [
       "                               SMD            95%-CI %W(random)\n",
       "Bunse et al. (2009)         1.9599 [-0.5185; 4.4382]        5.4\n",
       "Bunse et al. (2009)        -0.8245 [-2.9299; 1.2810]        7.0\n",
       "Verma et al. (2018)         0.8298 [-0.0925; 1.7521]       19.7\n",
       "Balakrishnan et al. (2017)  0.0780 [-1.3089; 1.4650]       12.8\n",
       "Inoue (2016)                0.5744 [-0.8667; 2.0155]       12.2\n",
       "Abulnaja et al. (2018)     -0.2232 [-1.4691; 1.0227]       14.6\n",
       "Aljabri et al. (2019)       0.0850 [-0.4131; 0.5830]       28.3\n",
       "\n",
       "Number of studies combined: k = 7\n",
       "\n",
       "                        SMD            95%-CI    t p-value\n",
       "Random effects model 0.2827 [-0.3175; 0.8828] 1.15  0.2929\n",
       "Prediction interval         [-1.2525; 1.8179]             \n",
       "\n",
       "Quantifying heterogeneity:\n",
       " tau^2 = 0.2965 [0.0000; 2.6078]; tau = 0.5445 [0.0000; 1.6149]\n",
       " I^2 = 0.0% [0.0%; 68.5%]; H = 1.00 [1.00; 1.78]\n",
       "\n",
       "Test of heterogeneity:\n",
       "    Q d.f. p-value\n",
       " 5.56    6  0.4744\n",
       "\n",
       "Details on meta-analytical method:\n",
       "- Inverse variance method\n",
       "- Sidik-Jonkman estimator for tau^2\n",
       "- Q-profile method for confidence interval of tau^2 and tau\n",
       "- Hartung-Knapp adjustment for random effects model\n",
       "- Hedges' g (bias corrected standardised mean difference)"
      ]
     },
     "metadata": {
      "tags": []
     },
     "output_type": "display_data"
    }
   ],
   "source": [
    "ma_random <- metacont(n.e = our_data$number_of_methods_for_merge,\n",
    "                  mean.e = our_data$mean_merge,\n",
    "                  sd.e = our_data$std_merge,\n",
    "                  label.e = 'Merge Sort',\n",
    "                  n.c = our_data$number_of_methods_for_quick,\n",
    "                  mean.c = our_data$mean_quick,\n",
    "                  sd.c = our_data$std_quick,\n",
    "                  label.c = 'Quick Sort',\n",
    "                  studlab = our_data$author,\n",
    "                  comb.fixed = FALSE,\n",
    "                  comb.random = TRUE,\n",
    "                  method.tau = \"SJ\",\n",
    "                  hakn = TRUE,\n",
    "                  prediction = TRUE,\n",
    "                  sm = \"SMD\")\n",
    "ma_random"
   ]
  },
  {
   "cell_type": "markdown",
   "metadata": {
    "id": "ZyA_RFw64sUZ"
   },
   "source": [
    "To read more about the meta-package and the function metacont you can [here](https://cran.r-project.org/web/packages/meta/meta.pdf)"
   ]
  },
  {
   "cell_type": "code",
   "execution_count": 15,
   "metadata": {
    "colab": {
     "base_uri": "https://localhost:8080/",
     "height": 437
    },
    "executionInfo": {
     "elapsed": 1903,
     "status": "ok",
     "timestamp": 1616276122537,
     "user": {
      "displayName": "Firas Jolha",
      "photoUrl": "https://lh3.googleusercontent.com/a-/AOh14Gh0N35hmFkQ1xxYEE4gZiRd6kk9zm0e8SIEx8xJEw=s64",
      "userId": "10923119656343535445"
     },
     "user_tz": -180
    },
    "id": "nH0rERaAwdQz",
    "outputId": "137dc4de-fe4e-4d08-fd80-5921b7f91b60"
   },
   "outputs": [
    {
     "data": {
      "image/png": "[encoded data removed]",
      "text/plain": [
       "plot without title"
      ]
     },
     "metadata": {
      "image/png": {
       "height": 420,
       "width": 420
      },
      "tags": []
     },
     "output_type": "display_data"
    }
   ],
   "source": [
    "forest(ma_random, test.overall.random=TRUE)"
   ]
  },
  {
   "cell_type": "code",
   "execution_count": 16,
   "metadata": {
    "colab": {
     "base_uri": "https://localhost:8080/",
     "height": 34
    },
    "executionInfo": {
     "elapsed": 896,
     "status": "ok",
     "timestamp": 1616276160754,
     "user": {
      "displayName": "Firas Jolha",
      "photoUrl": "https://lh3.googleusercontent.com/a-/AOh14Gh0N35hmFkQ1xxYEE4gZiRd6kk9zm0e8SIEx8xJEw=s64",
      "userId": "10923119656343535445"
     },
     "user_tz": -180
    },
    "id": "Sa2O1AOx3pAk",
    "outputId": "91f0ca71-bc1b-48be-ed1a-646dd0077598"
   },
   "outputs": [
    {
     "data": {
      "text/html": [
       "<strong>png:</strong> 2"
      ],
      "text/latex": [
       "\\textbf{png:} 2"
      ],
      "text/markdown": [
       "**png:** 2"
      ],
      "text/plain": [
       "png \n",
       "  2 "
      ]
     },
     "metadata": {
      "tags": []
     },
     "output_type": "display_data"
    }
   ],
   "source": [
    "# tiff(\"c++_java.tiff\", units=\"in\", width=12, height=5, res=100)\n",
    "svg(\"quick_merge.svg\", width=12, height=5)\n",
    "forest(ma_random, test.overall.random=TRUE)\n",
    "dev.off()"
   ]
  },
  {
   "cell_type": "code",
   "execution_count": null,
   "metadata": {
    "executionInfo": {
     "elapsed": 292510,
     "status": "aborted",
     "timestamp": 1616273669300,
     "user": {
      "displayName": "Firas Jolha",
      "photoUrl": "https://lh3.googleusercontent.com/a-/AOh14Gh0N35hmFkQ1xxYEE4gZiRd6kk9zm0e8SIEx8xJEw=s64",
      "userId": "10923119656343535445"
     },
     "user_tz": -180
    },
    "id": "B4ItdoAO6dk_"
   },
   "outputs": [],
   "source": [
    "ma_fixed <- metacont(n.e = our_data$number_of_methods_for_c..,\n",
    "                  mean.e = our_data$mean_c..,\n",
    "                  sd.e = our_data$sd_c..,\n",
    "                  label.e = 'C++',\n",
    "                  n.c = our_data$number_of_methods_for_java,\n",
    "                  mean.c = our_data$mean_java,\n",
    "                  sd.c = our_data$sd_java,\n",
    "                  label.c = 'Java',\n",
    "                  studlab = our_data$author,\n",
    "                  comb.fixed = TRUE,\n",
    "                  comb.random = FALSE,\n",
    "                  method.tau = \"SJ\",\n",
    "                  hakn = TRUE,\n",
    "                  prediction = TRUE,\n",
    "                  sm = \"SMD\")\n",
    "ma_fixed"
   ]
  },
  {
   "cell_type": "code",
   "execution_count": null,
   "metadata": {
    "executionInfo": {
     "elapsed": 292503,
     "status": "aborted",
     "timestamp": 1616273669301,
     "user": {
      "displayName": "Firas Jolha",
      "photoUrl": "https://lh3.googleusercontent.com/a-/AOh14Gh0N35hmFkQ1xxYEE4gZiRd6kk9zm0e8SIEx8xJEw=s64",
      "userId": "10923119656343535445"
     },
     "user_tz": -180
    },
    "id": "IVl0pRrS7Lyy"
   },
   "outputs": [],
   "source": [
    "tiff(\"c++_java_fixed.tiff\", units=\"in\", width=12, height=5, res=100)\n",
    "forest(ma_fixed, test.overall.random=FALSE)\n",
    "dev.off()"
   ]
  },
  {
   "cell_type": "markdown",
   "metadata": {
    "id": "Z09_eEQL7dLB"
   },
   "source": [
    "## References\n",
    "\n",
    "\n",
    "\n",
    "*   [Towards Data Science: How to use R in Google Colab ](https://towardsdatascience.com/how-to-use-r-in-google-colab-b6e02d736497)\n",
    "*   [Meta-package documentation](https://cran.r-project.org/web/packages/meta/meta.pdf)\n",
    "\n",
    "\n",
    "\n"
   ]
  }
 ],
 "metadata": {
  "colab": {
   "collapsed_sections": [],
   "name": "Meta_analysisWithR.ipynb",
   "provenance": []
  },
  "kernelspec": {
   "display_name": "R",
   "name": "ir"
  }
 },
 "nbformat": 4,
 "nbformat_minor": 1
}
