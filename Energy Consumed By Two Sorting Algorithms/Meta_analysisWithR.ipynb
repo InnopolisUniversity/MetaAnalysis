{
 "cells": [
  {
   "cell_type": "markdown",
   "metadata": {
    "id": "n1l3aWNbzxbX"
   },
   "source": [
    "# <center>Meta-Analytical Comparison Of Energy Consumed By Two Sorting Algorithms</center>\n",
    "\n",
    "\n",
    "You already did some calculations by hands and in Python! Now, let's see, how they will look like using R.\n",
    "\n",
    "If you have any questions (even though you think they are simple), do not hesitate to ask us or to write in private messages!"
   ]
  },
  {
   "cell_type": "markdown",
   "metadata": {
    "id": "Urld0cavzz7W"
   },
   "source": [
    "## 1. Starting point\n",
    "\n",
    "Create a new notebook using the following [the link](https://colab.research.google.com/#create=true&language=r). Did it?\n",
    "\n",
    "Great! Here we go!\n",
    "\n",
    "Let's check, if we're doing what we need!"
   ]
  },
  {
   "cell_type": "code",
   "execution_count": null,
   "metadata": {
    "colab": {
     "base_uri": "https://localhost:8080/",
     "height": 34
    },
    "executionInfo": {
     "elapsed": 981,
     "status": "ok",
     "timestamp": 1616273377623,
     "user": {
      "displayName": "Firas Jolha",
      "photoUrl": "https://lh3.googleusercontent.com/a-/AOh14Gh0N35hmFkQ1xxYEE4gZiRd6kk9zm0e8SIEx8xJEw=s64",
      "userId": "10923119656343535445"
     },
     "user_tz": -180
    },
    "id": "Ov5DBT58zpha",
    "outputId": "59927da0-27b3-46d4-9c26-ebd4ff296e6e"
   },
   "outputs": [],
   "source": [
    "R.version.string"
   ]
  },
  {
   "cell_type": "markdown",
   "metadata": {
    "id": "6HMPHG_41y1V"
   },
   "source": [
    "## 2. Install necassary libraries\n",
    "\n",
    "**NOTE :** Installation take more time!! Be prepared to wait"
   ]
  },
  {
   "cell_type": "code",
   "execution_count": null,
   "metadata": {
    "colab": {
     "base_uri": "https://localhost:8080/"
    },
    "executionInfo": {
     "elapsed": 292571,
     "status": "ok",
     "timestamp": 1616273669280,
     "user": {
      "displayName": "Firas Jolha",
      "photoUrl": "https://lh3.googleusercontent.com/a-/AOh14Gh0N35hmFkQ1xxYEE4gZiRd6kk9zm0e8SIEx8xJEw=s64",
      "userId": "10923119656343535445"
     },
     "user_tz": -180
    },
    "id": "KZsfrT4t0H3C",
    "outputId": "91a0ffc3-a8be-4a35-de60-a1f5da7260da"
   },
   "outputs": [],
   "source": [
    "install.packages(\"devtools\") #will help us to install required packages\n",
    "devtools::install_github(\"guido-s/meta\") #installation of meta - package for a meta-analysis\n",
    "\n",
    "library(meta)"
   ]
  },
  {
   "cell_type": "markdown",
   "metadata": {
    "id": "bj0dzMMC2oft"
   },
   "source": [
    "## 3. Read Data\n",
    "\n",
    "All the data extracted from the primary studies are stored in a `sources_for_ma.txt` file"
   ]
  },
  {
   "cell_type": "code",
   "execution_count": null,
   "metadata": {
    "colab": {
     "base_uri": "https://localhost:8080/",
     "height": 318
    },
    "executionInfo": {
     "elapsed": 292562,
     "status": "ok",
     "timestamp": 1616273669283,
     "user": {
      "displayName": "Firas Jolha",
      "photoUrl": "https://lh3.googleusercontent.com/a-/AOh14Gh0N35hmFkQ1xxYEE4gZiRd6kk9zm0e8SIEx8xJEw=s64",
      "userId": "10923119656343535445"
     },
     "user_tz": -180
    },
    "id": "vNL50kqG1yMS",
    "outputId": "f9e59f58-0f0e-4c7b-e0c8-fcd309ec90b8"
   },
   "outputs": [],
   "source": [
    "our_data <- read.csv('./Data/sources_for_ma.txt')\n",
    "our_data"
   ]
  },
  {
   "cell_type": "markdown",
   "metadata": {},
   "source": [
    "## 4. Explore the data \n",
    "\n",
    "* View structure of our data\n",
    "* View minimum number of experiments done in each primary study\n",
    "* View descriptive statistics of our data"
   ]
  },
  {
   "cell_type": "code",
   "execution_count": null,
   "metadata": {
    "colab": {
     "base_uri": "https://localhost:8080/"
    },
    "executionInfo": {
     "elapsed": 292552,
     "status": "ok",
     "timestamp": 1616273669284,
     "user": {
      "displayName": "Firas Jolha",
      "photoUrl": "https://lh3.googleusercontent.com/a-/AOh14Gh0N35hmFkQ1xxYEE4gZiRd6kk9zm0e8SIEx8xJEw=s64",
      "userId": "10923119656343535445"
     },
     "user_tz": -180
    },
    "id": "9ElYOOtn2_yJ",
    "outputId": "399c92bf-bf5c-4bcd-b7e6-02089b840604"
   },
   "outputs": [],
   "source": [
    "str(our_data) #structure of our dataset"
   ]
  },
  {
   "cell_type": "code",
   "execution_count": null,
   "metadata": {
    "colab": {
     "base_uri": "https://localhost:8080/",
     "height": 69
    },
    "executionInfo": {
     "elapsed": 292544,
     "status": "ok",
     "timestamp": 1616273669287,
     "user": {
      "displayName": "Firas Jolha",
      "photoUrl": "https://lh3.googleusercontent.com/a-/AOh14Gh0N35hmFkQ1xxYEE4gZiRd6kk9zm0e8SIEx8xJEw=s64",
      "userId": "10923119656343535445"
     },
     "user_tz": -180
    },
    "id": "3klZJZEG3K-M",
    "outputId": "0b3d9559-4989-40f6-8fc7-3ebdf6c32d0c"
   },
   "outputs": [],
   "source": [
    "min(our_data$number_of_methods_for_merge) #minimum number of experiments done in the considered papers"
   ]
  },
  {
   "cell_type": "code",
   "execution_count": null,
   "metadata": {
    "colab": {
     "base_uri": "https://localhost:8080/",
     "height": 382
    },
    "executionInfo": {
     "elapsed": 292536,
     "status": "ok",
     "timestamp": 1616273669289,
     "user": {
      "displayName": "Firas Jolha",
      "photoUrl": "https://lh3.googleusercontent.com/a-/AOh14Gh0N35hmFkQ1xxYEE4gZiRd6kk9zm0e8SIEx8xJEw=s64",
      "userId": "10923119656343535445"
     },
     "user_tz": -180
    },
    "id": "1_w0BcXX3YB2",
    "outputId": "f1eb8b82-69d5-4fd1-b2a6-ae3b198b1c19"
   },
   "outputs": [],
   "source": [
    "summary(our_data) #the descriptive statistics of our dataset"
   ]
  },
  {
   "cell_type": "markdown",
   "metadata": {},
   "source": [
    "## 5. Meta-analytical computations (Random model)"
   ]
  },
  {
   "cell_type": "code",
   "execution_count": null,
   "metadata": {},
   "outputs": [],
   "source": [
    "ma_random <- metacont(n.e = our_data$number_of_methods_for_merge,\n",
    "                  mean.e = our_data$mean_merge,\n",
    "                  sd.e = our_data$std_merge,\n",
    "                  label.e = 'Merge Sort',\n",
    "                  n.c = our_data$number_of_methods_for_quick,\n",
    "                  mean.c = our_data$mean_quick,\n",
    "                  sd.c = our_data$std_quick,\n",
    "                  label.c = 'Quick Sort',\n",
    "                  studlab = our_data$author,\n",
    "                  comb.fixed = FALSE,\n",
    "                  comb.random = TRUE,\n",
    "                  method.tau = \"SJ\",\n",
    "                  hakn = TRUE,\n",
    "                  prediction = TRUE,\n",
    "                  sm = \"SMD\")\n",
    "ma_random"
   ]
  },
  {
   "cell_type": "markdown",
   "metadata": {
    "id": "ZyA_RFw64sUZ"
   },
   "source": [
    "To read more about the meta-package and the function metacont you can [here](https://cran.r-project.org/web/packages/meta/meta.pdf)"
   ]
  },
  {
   "cell_type": "markdown",
   "metadata": {},
   "source": [
    "## 6. Create a forest plot"
   ]
  },
  {
   "cell_type": "code",
   "execution_count": null,
   "metadata": {
    "colab": {
     "base_uri": "https://localhost:8080/",
     "height": 437
    },
    "executionInfo": {
     "elapsed": 1903,
     "status": "ok",
     "timestamp": 1616276122537,
     "user": {
      "displayName": "Firas Jolha",
      "photoUrl": "https://lh3.googleusercontent.com/a-/AOh14Gh0N35hmFkQ1xxYEE4gZiRd6kk9zm0e8SIEx8xJEw=s64",
      "userId": "10923119656343535445"
     },
     "user_tz": -180
    },
    "id": "nH0rERaAwdQz",
    "outputId": "137dc4de-fe4e-4d08-fd80-5921b7f91b60"
   },
   "outputs": [],
   "source": [
    "forest(ma_random, test.overall.random=TRUE)"
   ]
  },
  {
   "cell_type": "markdown",
   "metadata": {},
   "source": [
    "## 7. Save result"
   ]
  },
  {
   "cell_type": "code",
   "execution_count": null,
   "metadata": {
    "colab": {
     "base_uri": "https://localhost:8080/",
     "height": 34
    },
    "executionInfo": {
     "elapsed": 896,
     "status": "ok",
     "timestamp": 1616276160754,
     "user": {
      "displayName": "Firas Jolha",
      "photoUrl": "https://lh3.googleusercontent.com/a-/AOh14Gh0N35hmFkQ1xxYEE4gZiRd6kk9zm0e8SIEx8xJEw=s64",
      "userId": "10923119656343535445"
     },
     "user_tz": -180
    },
    "id": "Sa2O1AOx3pAk",
    "outputId": "91f0ca71-bc1b-48be-ed1a-646dd0077598"
   },
   "outputs": [],
   "source": [
    "svg(\"quick_merge.svg\", width=12, height=5)\n",
    "forest(ma_random, test.overall.random=TRUE)\n",
    "dev.off()"
   ]
  },
  {
   "cell_type": "markdown",
   "metadata": {
    "id": "Z09_eEQL7dLB"
   },
   "source": [
    "## 8. References\n",
    "\n",
    "\n",
    "\n",
    "*   [Towards Data Science: How to use R in Google Colab ](https://towardsdatascience.com/how-to-use-r-in-google-colab-b6e02d736497)\n",
    "*   [Meta-package documentation](https://cran.r-project.org/web/packages/meta/meta.pdf)\n",
    "\n",
    "\n",
    "\n"
   ]
  }
 ],
 "metadata": {
  "colab": {
   "collapsed_sections": [],
   "name": "Meta_analysisWithR.ipynb",
   "provenance": []
  },
  "kernelspec": {
   "display_name": "R",
   "language": "R",
   "name": "ir"
  },
  "language_info": {
   "codemirror_mode": "r",
   "file_extension": ".r",
   "mimetype": "text/x-r-source",
   "name": "R",
   "pygments_lexer": "r",
   "version": "4.1.0"
  }
 },
 "nbformat": 4,
 "nbformat_minor": 1
}
