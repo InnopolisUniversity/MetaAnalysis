{
 "cells": [
  {
   "cell_type": "markdown",
   "metadata": {},
   "source": [
    "# <center>Title</center>\n",
    "\n",
    "\n",
    "You already did some calculations by hands and in Python! Now, let's see, how they will look like using R.\n",
    "\n",
    "If you have any questions (even though you think they are simple), do not hesitate to ask us or to write in private messages!"
   ]
  },
  {
   "cell_type": "markdown",
   "metadata": {},
   "source": [
    "## 1. Starting point\n",
    "\n",
    "Create a new notebook using the following [the link](https://colab.research.google.com/#create=true&language=r). Did it?\n",
    "\n",
    "Great! Here we go!\n",
    "\n",
    "Let's check, if we're doing what we need!"
   ]
  },
  {
   "cell_type": "markdown",
   "metadata": {},
   "source": [
    "## 2. Install necassary libraries\n",
    "\n",
    "**NOTE :** Installation take more time!! Be prepared to wait"
   ]
  },
  {
   "cell_type": "code",
   "execution_count": null,
   "metadata": {
    "colab": {
     "base_uri": "https://localhost:8080/"
    },
    "id": "KZsfrT4t0H3C",
    "outputId": "18e3bba4-2bcb-47ce-9cdd-e1a1ff6cdc6c"
   },
   "outputs": [],
   "source": [
    "install.packages(\"devtools\") #will help us to install required packages\n",
    "devtools::install_github(\"guido-s/meta\") #installation of meta - package for a meta-analysis\n",
    "\n",
    "library(meta)"
   ]
  },
  {
   "cell_type": "markdown",
   "metadata": {},
   "source": [
    "## 3. Meta-analytical computation & Ploting function "
   ]
  },
  {
   "cell_type": "code",
   "execution_count": null,
   "metadata": {
    "id": "2EPAqA1WJZiC"
   },
   "outputs": [],
   "source": [
    "get_forest_plot_for_file <- function(file_name, print_I2 = TRUE, print_I2_ci = FALSE, print_tau2 = FALSE, print_p = FALSE){\n",
    "  data <- read.csv(file_name)\n",
    "  xmin <- max(min(data[\"Data\"]) - 0.25, -1)\n",
    "  xmax <- min(max(data[\"Data\"]) + 0.25, 1)\n",
    "  ma_random <- metacor(Data, \n",
    "                 Cl.Size, \n",
    "                 data = data,\n",
    "                 sm = \"ZCOR\",\n",
    "                 method.tau = \"SJ\",\n",
    "                 comb.random = FALSE)\n",
    "  print(paste(\"saving forest plot -\", paste(file_name, '.tiff', sep = '')))\n",
    "  tiff(paste(file_name, '.tiff', sep = ''), units=\"in\", width=8, height=6, res=150)\n",
    "  forest(ma_random, studlab = Author.s..and.Year,\n",
    "          xlim = c(xmin,xmax),  \n",
    "          print.I2 = print_I2,\n",
    "          print.I2.ci = print_I2_ci,\n",
    "          print.tau2 = print_tau2,\n",
    "          print.p = print_p\n",
    "          )\n",
    "  dev.off()\n",
    "}"
   ]
  },
  {
   "cell_type": "markdown",
   "metadata": {},
   "source": [
    "## 3. Read the data & make forest plots for every file"
   ]
  },
  {
   "cell_type": "code",
   "execution_count": null,
   "metadata": {
    "colab": {
     "base_uri": "https://localhost:8080/"
    },
    "id": "YzUnIVNJQu18",
    "outputId": "4f2ef473-5e42-48af-b2a7-d9f0be73c0b9"
   },
   "outputs": [],
   "source": [
    "file_names <- c(\"Data/P.csv\", \"Data/Q1.csv\", \"Data/Q2.csv\")\n",
    "for(i in 1:3){\n",
    "    print(file_names[i])\n",
    "    get_forest_plot_for_file(file_names[i])\n",
    "  }"
   ]
  }
 ],
 "metadata": {
  "colab": {
   "collapsed_sections": [],
   "name": "Copy of creating forest plots",
   "provenance": []
  },
  "kernelspec": {
   "display_name": "R",
   "language": "R",
   "name": "ir"
  },
  "language_info": {
   "codemirror_mode": "r",
   "file_extension": ".r",
   "mimetype": "text/x-r-source",
   "name": "R",
   "pygments_lexer": "r",
   "version": "4.1.1"
  }
 },
 "nbformat": 4,
 "nbformat_minor": 1
}
