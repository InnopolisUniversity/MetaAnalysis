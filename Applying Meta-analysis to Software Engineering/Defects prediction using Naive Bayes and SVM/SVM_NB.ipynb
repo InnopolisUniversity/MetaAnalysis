{
 "cells": [
  {
   "cell_type": "markdown",
   "metadata": {},
   "source": [
    "# A meta-analytical comparison of Naive Bayes and SVM for defect prediction</center>\n",
    "\n",
    "\n",
    "You already did some calculations by hands and in Python! Now, let's see, how they will look like using R.\n",
    "\n",
    "If you have any questions (even though you think they are simple), do not hesitate to ask us or to write in private messages!"
   ]
  },
  {
   "cell_type": "markdown",
   "metadata": {
    "colab": {
     "base_uri": "https://localhost:8080/",
     "height": 34
    },
    "id": "2aaMg7srlbqX",
    "outputId": "e92ecd8d-531a-45ee-9ea1-07a8db40b460"
   },
   "source": [
    "## 1. Install necassary libraries\n",
    "\n",
    "**NOTE :** Installation take more time!! Be prepared to wait"
   ]
  },
  {
   "cell_type": "code",
   "execution_count": null,
   "metadata": {
    "colab": {
     "base_uri": "https://localhost:8080/"
    },
    "id": "IPxUiLeglt75",
    "outputId": "8573cd29-7937-4156-ca81-d9e33f28a5b5"
   },
   "outputs": [],
   "source": [
    "install.packages(\"devtools\") #will help us to install required packages\n",
    "devtools::install_github(\"guido-s/meta\") #installation of meta - package for a meta-analysis\n",
    "\n",
    "library(meta)"
   ]
  },
  {
   "cell_type": "markdown",
   "metadata": {},
   "source": [
    "## 2. Meta-analysis computations for Promise Dataset"
   ]
  },
  {
   "cell_type": "code",
   "execution_count": null,
   "metadata": {
    "colab": {
     "base_uri": "https://localhost:8080/",
     "height": 487
    },
    "id": "rFlHlZN1l0Wx",
    "outputId": "b31919ac-d711-493a-fa27-dc952bfce36c"
   },
   "outputs": [],
   "source": [
    "# Promise data set\n",
    "PROMISE_data <- read.csv('Data/SVM_NB_PROMISE.csv')\n",
    "\n",
    "PROMISE <- metacont(n.e = PROMISE_data$X..of.exper.,\n",
    "                  mean.e = PROMISE_data$SVM_mean,\n",
    "                  sd.e = PROMISE_data$SVM_std,\n",
    "                  label.e = 'SVM',\n",
    "                  n.c = PROMISE_data$X..of.exper.,\n",
    "                  mean.c = PROMISE_data$NB_mean,\n",
    "                  sd.c = PROMISE_data$NB_std,\n",
    "                  label.c = 'Naive Bayes',\n",
    "                  studlab = PROMISE_data$Name,\n",
    "                  comb.fixed = FALSE,\n",
    "                  comb.random = TRUE,\n",
    "                  method.tau = \"SJ\",\n",
    "                  hakn = TRUE,\n",
    "                  prediction = TRUE,\n",
    "                  sm = \"SMD\")\n",
    "PROMISE"
   ]
  },
  {
   "cell_type": "markdown",
   "metadata": {},
   "source": [
    "## 3. Meta-analysis computations for NASA Dataset"
   ]
  },
  {
   "cell_type": "code",
   "execution_count": null,
   "metadata": {
    "colab": {
     "base_uri": "https://localhost:8080/",
     "height": 554
    },
    "id": "ao6pYYM3l4QL",
    "outputId": "6e4217f9-fcf0-45ca-ba56-b24d5ef72124"
   },
   "outputs": [],
   "source": [
    "NASA_data <- read.csv('Data/SVM_NB_NASA.csv')\n",
    "\n",
    "NASA <- metacont(n.e = NASA_data$X..of.exper.,\n",
    "                  mean.e = NASA_data$SVM_mean,\n",
    "                  sd.e = NASA_data$SVM_std,\n",
    "                  label.e = 'SVM',\n",
    "                  n.c = NASA_data$X..of.exper.,\n",
    "                  mean.c = NASA_data$NB_mean,\n",
    "                  sd.c = NASA_data$NB_std,\n",
    "                  label.c = 'Naive Bayes',\n",
    "                  studlab = NASA_data$Name,\n",
    "                  comb.fixed = FALSE,\n",
    "                  comb.random = TRUE,\n",
    "                  method.tau = \"SJ\",\n",
    "                  hakn = TRUE,\n",
    "                  prediction = TRUE,\n",
    "                  sm = \"SMD\")\n",
    "NASA"
   ]
  },
  {
   "cell_type": "markdown",
   "metadata": {},
   "source": [
    "## 4. Meta-analysis computations for Promise & NASA Dataset"
   ]
  },
  {
   "cell_type": "code",
   "execution_count": null,
   "metadata": {
    "colab": {
     "base_uri": "https://localhost:8080/",
     "height": 605
    },
    "id": "EMobdV1Ll6gE",
    "outputId": "9954a463-1554-4453-e8cf-94a07259e0d7"
   },
   "outputs": [],
   "source": [
    "COMBINED_data <- read.csv('Data/SVM_NB.csv')\n",
    "\n",
    "COMBINED <- metacont(n.e = COMBINED_data$X..of.exper.,\n",
    "                  mean.e = COMBINED_data$SVM_mean,\n",
    "                  sd.e = COMBINED_data$SVM_std,\n",
    "                  label.e = 'SVM',\n",
    "                  n.c = COMBINED_data$X..of.exper.,\n",
    "                  mean.c = COMBINED_data$NB_mean,\n",
    "                  sd.c = COMBINED_data$NB_std,\n",
    "                  label.c = 'Naive Bayes',\n",
    "                  studlab = COMBINED_data$Name,\n",
    "                  comb.fixed = FALSE,\n",
    "                  comb.random = TRUE,\n",
    "                  method.tau = \"SJ\",\n",
    "                  hakn = TRUE,\n",
    "                  prediction = TRUE,\n",
    "                  sm = \"SMD\")\n",
    "COMBINED"
   ]
  },
  {
   "cell_type": "markdown",
   "metadata": {},
   "source": [
    "## 5. Generating Forest plots"
   ]
  },
  {
   "cell_type": "code",
   "execution_count": null,
   "metadata": {
    "colab": {
     "base_uri": "https://localhost:8080/",
     "height": 34
    },
    "id": "mjSI2INsnmXz",
    "outputId": "1247c802-c4e1-4276-8552-0735c976d27d"
   },
   "outputs": [],
   "source": [
    "tiff(\"plots/SVM_NB_PROMISE.tiff\", units=\"in\", width=12, height=5, res=100)\n",
    "forest(PROMISE, test.overall.random=TRUE)\n",
    "dev.off()"
   ]
  },
  {
   "cell_type": "code",
   "execution_count": null,
   "metadata": {
    "colab": {
     "base_uri": "https://localhost:8080/",
     "height": 34
    },
    "id": "yt6CfL50okdm",
    "outputId": "a0f9b05f-cc91-4dd2-b986-2f85ac694a39"
   },
   "outputs": [],
   "source": [
    "tiff(\"plots/SVM_NB_NASA.tiff\", units=\"in\", width=12, height=5, res=100)\n",
    "forest(NASA, test.overall.random=TRUE)\n",
    "dev.off()"
   ]
  },
  {
   "cell_type": "code",
   "execution_count": null,
   "metadata": {
    "colab": {
     "base_uri": "https://localhost:8080/",
     "height": 34
    },
    "id": "TtHyPiMrok6c",
    "outputId": "d59c1db9-b004-42ee-cbee-a90d18d5619f"
   },
   "outputs": [],
   "source": [
    "tiff(\"plots/SVM_NB.tiff\", units=\"in\", width=12, height=5, res=100)\n",
    "forest(COMBINED, test.overall.random=TRUE)\n",
    "dev.off()"
   ]
  }
 ],
 "metadata": {
  "colab": {
   "name": "SVM_NB.ipynb",
   "provenance": []
  },
  "kernelspec": {
   "display_name": "R",
   "language": "R",
   "name": "ir"
  },
  "language_info": {
   "codemirror_mode": "r",
   "file_extension": ".r",
   "mimetype": "text/x-r-source",
   "name": "R",
   "pygments_lexer": "r",
   "version": "4.1.1"
  }
 },
 "nbformat": 4,
 "nbformat_minor": 1
}
